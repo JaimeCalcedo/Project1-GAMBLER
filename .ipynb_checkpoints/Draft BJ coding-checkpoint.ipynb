{
 "cells": [
  {
   "cell_type": "markdown",
   "metadata": {},
   "source": [
    "#### BLACKJACK GAME ####\n"
   ]
  },
  {
   "cell_type": "code",
   "execution_count": null,
   "metadata": {},
   "outputs": [],
   "source": [
    "import random"
   ]
  },
  {
   "cell_type": "code",
   "execution_count": 156,
   "metadata": {},
   "outputs": [
    {
     "name": "stdout",
     "output_type": "stream",
     "text": [
      "Dealer has: 3 faced up and another card faced down\n",
      "Player has: [5, 10]\n",
      "You have 15 What would you like to do?\n",
      "Choose to Hit or to Stay: Stay\n",
      "You´ve stayed with 15\n",
      "You stand a chance, lets watch the dealer\n",
      "Dealer flips the other card [9, 3] Dealer has: 12\n",
      "Dealer hits and gets [9, 3, 2] 14\n",
      "Dealer hits and gets [9, 3, 2, 7] 21\n",
      "Dealer has 21 so it stays\n",
      "YOU LOSE\n"
     ]
    }
   ],
   "source": [
    "#Dealer cards, because we need a place to store the different random cards the dealer obtains.\n",
    "dealer_cards = []\n",
    "#Player cards \n",
    "player_cards = []\n",
    "#Deal the cards, in this variable we must program the deal of 2 random cards to the dealer and the player. \n",
    "    #Dealer Cards: we got a also consider that from the 2 cards given to the dealer, only one is going to be seen by the player. \n",
    "while len(dealer_cards) != 2:\n",
    "    dealer_cards.append(random.randint(1, 11))                        \n",
    "    if len(dealer_cards) == 2:\n",
    "        print(\"Dealer has:\", dealer_cards[1], \"faced up and another card faced down\")\n",
    "    #Player cards \n",
    "while len(player_cards) != 2:\n",
    "    player_cards.append(random.randint(1, 11))\n",
    "    if len(player_cards) == 2:\n",
    "        print(\"Player has:\", player_cards)\n",
    "\n",
    "#Sum of cards: now we are going to add up the value of the cards the player has. \n",
    "sum_of_player_cards = sum(player_cards)\n",
    "sum_of_dealer_cards = sum(dealer_cards)\n",
    "#Now we have to offer the player his 2 options: Hit or Stay, if he chooses another option we´ll force him to choose between our two options. \n",
    "print(\"You have\", sum_of_player_cards, \"What would you like to do?\")\n",
    "option = \"\"\n",
    "#We also got to consider that the player can ask for another card (hit) as many times as he wants. \n",
    "while sum_of_player_cards < 21:\n",
    "    option = input(\"Choose to Hit or to Stay: \")\n",
    "    if option == \"Hit\":\n",
    "        player_cards.append(random.randint(1, 11))\n",
    "        sum_of_player_cards = sum(player_cards)\n",
    "        print(player_cards)\n",
    "        print(\"Player has:\", sum_of_player_cards)\n",
    "        if sum_of_player_cards > 21:\n",
    "            break\n",
    "        while option == \"Hit\":\n",
    "            option = input(\"Choose to Hit or to Stay: \")\n",
    "            if option == \"Hit\":\n",
    "                player_cards.append(random.randint(1, 11))\n",
    "                sum_of_player_cards = sum(player_cards)\n",
    "                print(player_cards)\n",
    "                print(\"Player has:\", sum_of_player_cards)\n",
    "                if sum_of_player_cards > 21:\n",
    "                    break\n",
    "            elif option == \"Stay\":\n",
    "                print(\"You´ve stayed with\", sum_of_player_cards)\n",
    "                break\n",
    "    elif option == \"Stay\":\n",
    "        print(\"You´ve stayed with\", sum_of_player_cards)\n",
    "        break\n",
    "\n",
    "if sum_of_player_cards > 21:\n",
    "    print(\"You busted, YOU LOSE\")\n",
    "elif sum_of_player_cards <= 21:\n",
    "    print(\"You stand a chance, lets watch the dealer\")\n",
    "    #Now we have to see what score the dealer gets.\n",
    "    #Remember that main casino´s policy is that dealers stand with 17 or more and hits with less.\n",
    "    print(\"Dealer flips the other card\", dealer_cards, \"Dealer has:\", sum_of_dealer_cards)\n",
    "\n",
    "    #Let´s apply the casino´s policy:\n",
    "    while sum_of_dealer_cards < 17:\n",
    "        dealer_cards.append(random.randint(1, 11))\n",
    "        sum_of_dealer_cards = sum(dealer_cards)\n",
    "        print(\"Dealer hits and gets\", dealer_cards, sum_of_dealer_cards)\n",
    "\n",
    "    if sum_of_dealer_cards > 21:\n",
    "        print(\"Dealer has\", sum_of_dealer_cards,\"so its busted, YOU WIN\")\n",
    "    else:\n",
    "        print(\"Dealer has\", sum_of_dealer_cards, \"so it stays\")\n",
    "        #Finally (if we get to this point), lets compare the dealer´s and player´s scores:\n",
    "        if sum_of_dealer_cards > sum_of_player_cards:\n",
    "            print(\"YOU LOSE\")\n",
    "        elif sum_of_dealer_cards < sum_of_player_cards:\n",
    "            print(\"YOU WIN\")\n",
    "        elif sum_of_dealer_cards == sum_of_player_cards:\n",
    "            print(\"IT´S A TIE\")\n",
    "        \n",
    "\n",
    "\n"
   ]
  },
  {
   "cell_type": "code",
   "execution_count": null,
   "metadata": {},
   "outputs": [],
   "source": [
    "while sum_of_player_cards < 21:\n",
    "    while option != \"Hit\" and option != \"Stay\":\n",
    "        option = input(\"Choose to Hit or to Stay: \")\n",
    "        if option == \"Hit\":\n",
    "            player_cards.append(random.randint(1, 11))\n",
    "            sum_of_player_cards = sum(player_cards)\n",
    "            print(player_cards)\n",
    "            print(\"Player has:\", sum_of_player_cards)\n",
    "            while option == \"Hit\":\n",
    "                option = input(\"Choose to Hit or to Stay: \")\n",
    "                if option == \"Hit\":\n",
    "                    player_cards.append(random.randint(1, 11))\n",
    "                    sum_of_player_cards = sum(player_cards)\n",
    "                    print(player_cards)\n",
    "                    print(\"Player has:\", sum_of_player_cards)\n",
    "                elif option == \"Stay\":\n",
    "                    print(\"You´ve stayed with\", sum_of_player_cards)\n",
    "                else:\n",
    "                    print(\"Please choose Hit or Stay\")\n",
    "                    input(\"Choose to Hit or to Stay\")    \n",
    "        elif option == \"Stay\":\n",
    "            print(\"You´ve stayed with\", sum_of_player_cards)\n",
    "        else:\n",
    "            print(\"Please choose Hit or Stay\")\n",
    "            option = input(\"Choose to Hit or to Stay: \")\n",
    "\n"
   ]
  },
  {
   "cell_type": "code",
   "execution_count": null,
   "metadata": {},
   "outputs": [],
   "source": []
  },
  {
   "cell_type": "code",
   "execution_count": 135,
   "metadata": {},
   "outputs": [],
   "source": [
    "\n",
    "\n",
    "            "
   ]
  },
  {
   "cell_type": "code",
   "execution_count": null,
   "metadata": {},
   "outputs": [],
   "source": []
  },
  {
   "cell_type": "code",
   "execution_count": null,
   "metadata": {},
   "outputs": [],
   "source": [
    "#Now we have to see what score the dealer gets.\n",
    "#Remember that main casino´s policy is that dealers stand with 17 or more and hits with less.\n",
    "print(\"Dealer flips the other card\", dealer_cards, \"Dealer has:\", sum_of_dealer_cards)\n",
    "\n",
    "#Let´s apply the casino´s policy:\n",
    "while sum_of_dealer_cards < 17:\n",
    "    dealer_cards.append(random.randint(1, 11))\n",
    "    sum_of_dealer_cards = sum(dealer_cards)\n",
    "    print(\"Dealer hits and gets\", dealer_cards, sum_of_dealer_cards)\n",
    "    \n",
    "if sum_of_dealer_cards > 21:\n",
    "    print(\"Dealer has\", sum_of_dealer_cards,\"so its busted\")\n",
    "else:\n",
    "    print(\"Dealer has\", sum_of_dealer_cards, \"so it stays\")"
   ]
  },
  {
   "cell_type": "code",
   "execution_count": null,
   "metadata": {},
   "outputs": [],
   "source": []
  },
  {
   "cell_type": "code",
   "execution_count": null,
   "metadata": {},
   "outputs": [],
   "source": [
    "#Finally, lets compare the dealer´s and player´s scores:\n",
    "    "
   ]
  },
  {
   "cell_type": "code",
   "execution_count": null,
   "metadata": {},
   "outputs": [],
   "source": []
  },
  {
   "cell_type": "code",
   "execution_count": null,
   "metadata": {},
   "outputs": [],
   "source": []
  },
  {
   "cell_type": "code",
   "execution_count": null,
   "metadata": {},
   "outputs": [],
   "source": []
  },
  {
   "cell_type": "code",
   "execution_count": null,
   "metadata": {},
   "outputs": [],
   "source": []
  },
  {
   "cell_type": "code",
   "execution_count": null,
   "metadata": {},
   "outputs": [],
   "source": []
  },
  {
   "cell_type": "code",
   "execution_count": null,
   "metadata": {},
   "outputs": [],
   "source": []
  },
  {
   "cell_type": "code",
   "execution_count": null,
   "metadata": {},
   "outputs": [],
   "source": []
  },
  {
   "cell_type": "code",
   "execution_count": null,
   "metadata": {},
   "outputs": [],
   "source": []
  },
  {
   "cell_type": "code",
   "execution_count": null,
   "metadata": {},
   "outputs": [],
   "source": []
  },
  {
   "cell_type": "code",
   "execution_count": null,
   "metadata": {},
   "outputs": [],
   "source": []
  },
  {
   "cell_type": "code",
   "execution_count": null,
   "metadata": {},
   "outputs": [],
   "source": []
  },
  {
   "cell_type": "code",
   "execution_count": null,
   "metadata": {},
   "outputs": [],
   "source": []
  },
  {
   "cell_type": "code",
   "execution_count": null,
   "metadata": {},
   "outputs": [],
   "source": []
  },
  {
   "cell_type": "code",
   "execution_count": null,
   "metadata": {},
   "outputs": [],
   "source": []
  },
  {
   "cell_type": "code",
   "execution_count": null,
   "metadata": {},
   "outputs": [],
   "source": []
  },
  {
   "cell_type": "code",
   "execution_count": null,
   "metadata": {},
   "outputs": [],
   "source": []
  },
  {
   "cell_type": "code",
   "execution_count": null,
   "metadata": {},
   "outputs": [],
   "source": []
  },
  {
   "cell_type": "code",
   "execution_count": null,
   "metadata": {},
   "outputs": [],
   "source": []
  },
  {
   "cell_type": "code",
   "execution_count": null,
   "metadata": {},
   "outputs": [],
   "source": []
  },
  {
   "cell_type": "code",
   "execution_count": null,
   "metadata": {},
   "outputs": [],
   "source": []
  },
  {
   "cell_type": "code",
   "execution_count": null,
   "metadata": {},
   "outputs": [],
   "source": []
  },
  {
   "cell_type": "code",
   "execution_count": null,
   "metadata": {},
   "outputs": [],
   "source": []
  },
  {
   "cell_type": "code",
   "execution_count": null,
   "metadata": {},
   "outputs": [],
   "source": []
  },
  {
   "cell_type": "code",
   "execution_count": null,
   "metadata": {},
   "outputs": [],
   "source": []
  },
  {
   "cell_type": "code",
   "execution_count": null,
   "metadata": {},
   "outputs": [],
   "source": []
  },
  {
   "cell_type": "code",
   "execution_count": null,
   "metadata": {},
   "outputs": [],
   "source": []
  },
  {
   "cell_type": "code",
   "execution_count": null,
   "metadata": {},
   "outputs": [],
   "source": []
  },
  {
   "cell_type": "code",
   "execution_count": null,
   "metadata": {},
   "outputs": [],
   "source": []
  },
  {
   "cell_type": "code",
   "execution_count": null,
   "metadata": {},
   "outputs": [],
   "source": []
  },
  {
   "cell_type": "code",
   "execution_count": null,
   "metadata": {},
   "outputs": [],
   "source": []
  },
  {
   "cell_type": "code",
   "execution_count": null,
   "metadata": {},
   "outputs": [],
   "source": []
  },
  {
   "cell_type": "code",
   "execution_count": null,
   "metadata": {},
   "outputs": [],
   "source": []
  },
  {
   "cell_type": "code",
   "execution_count": null,
   "metadata": {},
   "outputs": [],
   "source": []
  },
  {
   "cell_type": "code",
   "execution_count": null,
   "metadata": {},
   "outputs": [],
   "source": []
  },
  {
   "cell_type": "code",
   "execution_count": null,
   "metadata": {},
   "outputs": [],
   "source": []
  },
  {
   "cell_type": "code",
   "execution_count": null,
   "metadata": {},
   "outputs": [],
   "source": []
  },
  {
   "cell_type": "code",
   "execution_count": null,
   "metadata": {},
   "outputs": [],
   "source": []
  },
  {
   "cell_type": "code",
   "execution_count": null,
   "metadata": {},
   "outputs": [],
   "source": []
  },
  {
   "cell_type": "code",
   "execution_count": null,
   "metadata": {},
   "outputs": [],
   "source": []
  },
  {
   "cell_type": "code",
   "execution_count": null,
   "metadata": {},
   "outputs": [],
   "source": []
  },
  {
   "cell_type": "code",
   "execution_count": null,
   "metadata": {},
   "outputs": [],
   "source": []
  },
  {
   "cell_type": "code",
   "execution_count": null,
   "metadata": {},
   "outputs": [],
   "source": []
  }
 ],
 "metadata": {
  "kernelspec": {
   "display_name": "Python 3",
   "language": "python",
   "name": "python3"
  },
  "language_info": {
   "codemirror_mode": {
    "name": "ipython",
    "version": 3
   },
   "file_extension": ".py",
   "mimetype": "text/x-python",
   "name": "python",
   "nbconvert_exporter": "python",
   "pygments_lexer": "ipython3",
   "version": "3.8.5"
  }
 },
 "nbformat": 4,
 "nbformat_minor": 4
}
